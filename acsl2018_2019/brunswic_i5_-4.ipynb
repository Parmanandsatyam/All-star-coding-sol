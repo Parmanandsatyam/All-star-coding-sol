{
 "cells": [
  {
   "cell_type": "code",
   "execution_count": 199,
   "metadata": {},
   "outputs": [],
   "source": [
    "def getDigits(num):\n",
    "    digitNumber = 0\n",
    "    while(num>0):\n",
    "        digitNumber +=1\n",
    "        num//=10\n",
    "    return digitNumber"
   ]
  },
  {
   "cell_type": "code",
   "execution_count": 10,
   "metadata": {},
   "outputs": [],
   "source": [
    "def getPossibilities(combos):\n",
    "    possibilities = 0\n",
    "    digits = []\n",
    "    while(num>0):\n",
    "        digits += [num%10]\n",
    "        num//=10\n",
    "    digits.reverse()\n",
    "    return digits"
   ]
  },
  {
   "cell_type": "code",
   "execution_count": 202,
   "metadata": {},
   "outputs": [],
   "source": [
    "def getCombos(num):\n",
    "    combos = []\n",
    "\n",
    "    \n",
    "    \n",
    "    splitter = getDigits(num)-1\n",
    "    \n",
    "    for i in range(2**splitter):\n",
    "        binarySequence = toBinary(i,splitter)\n",
    "        tempNum = num\n",
    "        combo = []\n",
    "        counter = 1\n",
    "        for j in range(len(binarySequence)):\n",
    "            if binarySequence[j]==\"0\":\n",
    "                combo.append(tempNum%(10**counter))\n",
    "                tempNum//=(10**counter)\n",
    "                counter = 1\n",
    "            else:\n",
    "                counter += 1\n",
    "        if(tempNum!=0):\n",
    "            combo.append(tempNum)\n",
    "        combo.reverse()\n",
    "        combos.append(combo)\n",
    "    return combos\n"
   ]
  },
  {
   "cell_type": "code",
   "execution_count": 231,
   "metadata": {},
   "outputs": [],
   "source": [
    "def filterCombos(num):\n",
    "    combos = getCombos(num)\n",
    "    i=(len(combos))-1\n",
    "    while i>=0:\n",
    "        \n",
    "        digitCount = 0\n",
    "        for j in combos[i]:\n",
    "            digitCount += getDigits(j)\n",
    "        if(digitCount!=getDigits(num)):\n",
    "            combos.pop(i)\n",
    "            i-=1\n",
    "        elif len(combos[i])==1:\n",
    "            combos.pop(i)\n",
    "            i-=1\n",
    "        elif len(combos[i])>4:\n",
    "            combos.pop(i)\n",
    "            i-=1\n",
    "        else:\n",
    "            i-=1\n",
    "    return combos"
   ]
  },
  {
   "cell_type": "code",
   "execution_count": 232,
   "metadata": {},
   "outputs": [
    {
     "name": "stdout",
     "output_type": "stream",
     "text": [
      "[[2, 3, 40, 9], [23, 40, 9], [2, 340, 9], [2340, 9], [2, 3, 409], [23, 409], [2, 3409]]\n"
     ]
    }
   ],
   "source": [
    "print(filterCombos(23409))\n",
    "#print(getCombos(23409))"
   ]
  },
  {
   "cell_type": "code",
   "execution_count": 208,
   "metadata": {},
   "outputs": [],
   "source": [
    "def toBinary(x, y):\n",
    "    binaryString = \"\"\n",
    "    while(x>0):\n",
    "        if(x%2 == 1):\n",
    "            binaryString = \"1\" + binaryString\n",
    "        else:\n",
    "            binaryString = \"0\" + binaryString\n",
    "        x//=2\n",
    "    \n",
    "    \n",
    "    while(len(binaryString)<y):\n",
    "        binaryString = \"0\" + binaryString\n",
    "    return binaryString"
   ]
  },
  {
   "cell_type": "code",
   "execution_count": 233,
   "metadata": {},
   "outputs": [],
   "source": [
    "def checkExpressions(num):\n",
    "    comboAmount = 0\n",
    "    combos = filterCombos(num)\n",
    "    for l in combos:\n",
    "        if(len(l)==2):\n",
    "            if l[0]*l[1] > 0:\n",
    "                comboAmount+=1\n",
    "            if l[0]+l[1] > 0:\n",
    "                comboAmount+=1\n",
    "            if l[0]-l[1] > 0:\n",
    "                comboAmount+=1\n",
    "        if(len(l)==3):\n",
    "            if l[0]+l[1]-l[2] > 0:\n",
    "                comboAmount+=1\n",
    "            if l[0]+l[1]*l[2] > 0:\n",
    "                comboAmount+=1\n",
    "            if l[0]-l[1]+l[2] > 0:\n",
    "                comboAmount+=1\n",
    "            if l[0]-l[1]*l[2] > 0:\n",
    "                comboAmount+=1\n",
    "            if l[0]*l[1]-l[2] > 0:\n",
    "                comboAmount+=1\n",
    "            if l[0]*l[1]+l[2] > 0:\n",
    "                comboAmount+=1\n",
    "        if(len(l)==4):\n",
    "            if l[0]+l[1]-l[2]*l[3] > 0:\n",
    "                comboAmount+=1\n",
    "            if l[0]+l[1]*l[2]-l[3] > 0:\n",
    "                comboAmount+=1\n",
    "            if l[0]-l[1]+l[2]*l[3] > 0:\n",
    "                comboAmount+=1\n",
    "            if l[0]-l[1]*l[2]+l[3] > 0:\n",
    "                comboAmount+=1\n",
    "            if l[0]*l[1]-l[2]+l[3] > 0:\n",
    "                comboAmount+=1\n",
    "            if l[0]*l[1]+l[2]-l[3] > 0:\n",
    "                comboAmount+=1\n",
    "    print(comboAmount)\n",
    "        "
   ]
  },
  {
   "cell_type": "code",
   "execution_count": null,
   "metadata": {},
   "outputs": [],
   "source": []
  },
  {
   "cell_type": "code",
   "execution_count": 242,
   "metadata": {},
   "outputs": [
    {
     "name": "stdout",
     "output_type": "stream",
     "text": [
      "26\n",
      "49\n",
      "101\n"
     ]
    }
   ],
   "source": [
    "with open(\"as4-sample.txt\") as fhand:\n",
    "    lines = [int(x.strip()) for x in fhand.readlines()]\n",
    "\n",
    "for l in lines:\n",
    "    checkExpressions(l)"
   ]
  },
  {
   "cell_type": "code",
   "execution_count": null,
   "metadata": {},
   "outputs": [],
   "source": [
    "print(\"A\")"
   ]
  }
 ],
 "metadata": {
  "kernelspec": {
   "display_name": "Python 3",
   "language": "python",
   "name": "python3"
  },
  "language_info": {
   "codemirror_mode": {
    "name": "ipython",
    "version": 3
   },
   "file_extension": ".py",
   "mimetype": "text/x-python",
   "name": "python",
   "nbconvert_exporter": "python",
   "pygments_lexer": "ipython3",
   "version": "3.6.5"
  }
 },
 "nbformat": 4,
 "nbformat_minor": 2
}
